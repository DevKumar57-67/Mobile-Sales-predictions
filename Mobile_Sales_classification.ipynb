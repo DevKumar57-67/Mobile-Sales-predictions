{
  "metadata": {
    "kernelspec": {
      "language": "python",
      "display_name": "Python 3",
      "name": "python3"
    },
    "language_info": {
      "name": "python",
      "version": "3.10.13",
      "mimetype": "text/x-python",
      "codemirror_mode": {
        "name": "ipython",
        "version": 3
      },
      "pygments_lexer": "ipython3",
      "nbconvert_exporter": "python",
      "file_extension": ".py"
    },
    "kaggle": {
      "accelerator": "none",
      "dataSources": [
        {
          "sourceId": 15520,
          "sourceType": "datasetVersion",
          "datasetId": 11167
        }
      ],
      "dockerImageVersionId": 30746,
      "isInternetEnabled": true,
      "language": "python",
      "sourceType": "notebook",
      "isGpuEnabled": false
    },
    "colab": {
      "name": "Mobile Sales classification ",
      "provenance": [],
      "include_colab_link": true
    }
  },
  "nbformat_minor": 0,
  "nbformat": 4,
  "cells": [
    {
      "cell_type": "markdown",
      "metadata": {
        "id": "view-in-github",
        "colab_type": "text"
      },
      "source": [
        "<a href=\"https://colab.research.google.com/github/DevKumar57-67/Mobile-Sales-predictions/blob/main/Mobile_Sales_classification.ipynb\" target=\"_parent\"><img src=\"https://colab.research.google.com/assets/colab-badge.svg\" alt=\"Open In Colab\"/></a>"
      ]
    },
    {
      "source": [
        "\n",
        "# IMPORTANT: RUN THIS CELL IN ORDER TO IMPORT YOUR KAGGLE DATA SOURCES\n",
        "# TO THE CORRECT LOCATION (/kaggle/input) IN YOUR NOTEBOOK,\n",
        "# THEN FEEL FREE TO DELETE THIS CELL.\n",
        "# NOTE: THIS NOTEBOOK ENVIRONMENT DIFFERS FROM KAGGLE'S PYTHON\n",
        "# ENVIRONMENT SO THERE MAY BE MISSING LIBRARIES USED BY YOUR\n",
        "# NOTEBOOK.\n",
        "\n",
        "import os\n",
        "import sys\n",
        "from tempfile import NamedTemporaryFile\n",
        "from urllib.request import urlopen\n",
        "from urllib.parse import unquote, urlparse\n",
        "from urllib.error import HTTPError\n",
        "from zipfile import ZipFile\n",
        "import tarfile\n",
        "import shutil\n",
        "\n",
        "CHUNK_SIZE = 40960\n",
        "DATA_SOURCE_MAPPING = 'mobile-price-classification:https%3A%2F%2Fstorage.googleapis.com%2Fkaggle-data-sets%2F11167%2F15520%2Fbundle%2Farchive.zip%3FX-Goog-Algorithm%3DGOOG4-RSA-SHA256%26X-Goog-Credential%3Dgcp-kaggle-com%2540kaggle-161607.iam.gserviceaccount.com%252F20240818%252Fauto%252Fstorage%252Fgoog4_request%26X-Goog-Date%3D20240818T172028Z%26X-Goog-Expires%3D259200%26X-Goog-SignedHeaders%3Dhost%26X-Goog-Signature%3D787e3767e0e1e91205f5110f68e889400db553a1bcd5ac7eba3e5f9b01ac6326b7d361cbede1b9bcdff33128816b9b6f72ce8b586ad40cacec6df28b829113e4802295184468417940180c7dcffe0a0aed540f956274659af86cfdd2e3983d7f5328161786ec27b25ee3b0447192c2b164ba40aff8d6c9ead3909731749803479e16141ac9b4f9d7758e645c732c8d87dc64504bb53a478aa4a58cded6fe357d018d296489c4404cd842e37cce1adf180e3149cc11cd0a831d943e39ffaf87aa0fef3d0fd8c8ec2ca6cc8a4d55089e06269f7ce14065e67194b844547fbd0df2e001f75703d2f26fb8f4b37516b1f2093d218954d2ee75c15c1c316dce033183'\n",
        "\n",
        "KAGGLE_INPUT_PATH='/kaggle/input'\n",
        "KAGGLE_WORKING_PATH='/kaggle/working'\n",
        "KAGGLE_SYMLINK='kaggle'\n",
        "\n",
        "!umount /kaggle/input/ 2> /dev/null\n",
        "shutil.rmtree('/kaggle/input', ignore_errors=True)\n",
        "os.makedirs(KAGGLE_INPUT_PATH, 0o777, exist_ok=True)\n",
        "os.makedirs(KAGGLE_WORKING_PATH, 0o777, exist_ok=True)\n",
        "\n",
        "try:\n",
        "  os.symlink(KAGGLE_INPUT_PATH, os.path.join(\"..\", 'input'), target_is_directory=True)\n",
        "except FileExistsError:\n",
        "  pass\n",
        "try:\n",
        "  os.symlink(KAGGLE_WORKING_PATH, os.path.join(\"..\", 'working'), target_is_directory=True)\n",
        "except FileExistsError:\n",
        "  pass\n",
        "\n",
        "for data_source_mapping in DATA_SOURCE_MAPPING.split(','):\n",
        "    directory, download_url_encoded = data_source_mapping.split(':')\n",
        "    download_url = unquote(download_url_encoded)\n",
        "    filename = urlparse(download_url).path\n",
        "    destination_path = os.path.join(KAGGLE_INPUT_PATH, directory)\n",
        "    try:\n",
        "        with urlopen(download_url) as fileres, NamedTemporaryFile() as tfile:\n",
        "            total_length = fileres.headers['content-length']\n",
        "            print(f'Downloading {directory}, {total_length} bytes compressed')\n",
        "            dl = 0\n",
        "            data = fileres.read(CHUNK_SIZE)\n",
        "            while len(data) > 0:\n",
        "                dl += len(data)\n",
        "                tfile.write(data)\n",
        "                done = int(50 * dl / int(total_length))\n",
        "                sys.stdout.write(f\"\\r[{'=' * done}{' ' * (50-done)}] {dl} bytes downloaded\")\n",
        "                sys.stdout.flush()\n",
        "                data = fileres.read(CHUNK_SIZE)\n",
        "            if filename.endswith('.zip'):\n",
        "              with ZipFile(tfile) as zfile:\n",
        "                zfile.extractall(destination_path)\n",
        "            else:\n",
        "              with tarfile.open(tfile.name) as tarfile:\n",
        "                tarfile.extractall(destination_path)\n",
        "            print(f'\\nDownloaded and uncompressed: {directory}')\n",
        "    except HTTPError as e:\n",
        "        print(f'Failed to load (likely expired) {download_url} to path {destination_path}')\n",
        "        continue\n",
        "    except OSError as e:\n",
        "        print(f'Failed to load {download_url} to path {destination_path}')\n",
        "        continue\n",
        "\n",
        "print('Data source import complete.')"
      ],
      "metadata": {
        "id": "Xb0ybForgNGB"
      },
      "cell_type": "code",
      "outputs": [],
      "execution_count": null
    },
    {
      "cell_type": "code",
      "source": [
        " # This Python 3 environment comes with many helpful analytics libraries installed\n",
        "# It is defined by the kaggle/python Docker image: https://github.com/kaggle/docker-python\n",
        "# For example, here's several helpful packages to load\n",
        "\n",
        "import numpy as np # linear algebra\n",
        "import pandas as pd # data processing, CSV file I/O (e.g. pd.read_csv)\n",
        "\n",
        "# Input data files are available in the read-only \"../input/\" directory\n",
        "# For example, running this (by clicking run or pressing Shift+Enter) will list all files under the input directory\n",
        "\n",
        "import os\n",
        "for dirname, _, filenames in os.walk('/kaggle/input'):\n",
        "    for filename in filenames:\n",
        "        print(os.path.join(dirname, filename))\n",
        "\n",
        "# You can write up to 20GB to the current directory (/kaggle/working/) that gets preserved as output when you create a version using \"Save & Run All\"\n",
        "# You can also write temporary files to /kaggle/temp/, but they won't be saved outside of the current session"
      ],
      "metadata": {
        "_uuid": "8f2839f25d086af736a60e9eeb907d3b93b6e0e5",
        "_cell_guid": "b1076dfc-b9ad-4769-8c92-a6c4dae69d19",
        "execution": {
          "iopub.status.busy": "2024-08-18T13:50:32.676302Z",
          "iopub.execute_input": "2024-08-18T13:50:32.676702Z",
          "iopub.status.idle": "2024-08-18T13:50:33.749588Z",
          "shell.execute_reply.started": "2024-08-18T13:50:32.676668Z",
          "shell.execute_reply": "2024-08-18T13:50:33.748242Z"
        },
        "trusted": true,
        "id": "kNZXFv4QgNGe"
      },
      "execution_count": null,
      "outputs": []
    },
    {
      "cell_type": "markdown",
      "source": [
        "    Algorithm for the       Project:\n",
        "\n",
        "\n",
        "    Importing Libraries\n",
        "    Loading Dataset\n",
        "    Data Analytics\n",
        "    Data Merging\n",
        "    Data Analytics again\n",
        "    Data Visualisation\n",
        "    Data Cleaning\n",
        "    Data Mining\n",
        "    Classification\n",
        "    Regression Algorithm\n",
        "    Evaluation\n",
        "    Mean_squarred_error\n",
        "    Mean_absolute_error\n",
        "    Classification\n",
        "    Evaluation again\n",
        "    Comparing results\n",
        "    Redictions\n",
        "    \n",
        "    \n",
        "    Project Completed:"
      ],
      "metadata": {
        "id": "s2M3SJ2UgNGj"
      }
    },
    {
      "cell_type": "code",
      "source": [
        "import numpy as np\n",
        "import pandas as pd\n",
        "import matplotlib.pyplot as plt\n",
        "import seaborn as sns\n",
        "import plotly as px\n",
        "from sklearn.model_selection import train_test_split\n",
        "from sklearn.metrics import mean_squared_error\n",
        "from sklearn.metrics import mean_absolute_error\n"
      ],
      "metadata": {
        "execution": {
          "iopub.status.busy": "2024-08-18T13:50:33.751963Z",
          "iopub.execute_input": "2024-08-18T13:50:33.753049Z",
          "iopub.status.idle": "2024-08-18T13:50:35.367152Z",
          "shell.execute_reply.started": "2024-08-18T13:50:33.752989Z",
          "shell.execute_reply": "2024-08-18T13:50:35.365766Z"
        },
        "trusted": true,
        "id": "erFRdPpDgNGu"
      },
      "execution_count": null,
      "outputs": []
    },
    {
      "cell_type": "code",
      "source": [
        "train = pd.read_csv(\"/kaggle/input/mobile-price-classification/train.csv\")\n",
        "train"
      ],
      "metadata": {
        "execution": {
          "iopub.status.busy": "2024-08-18T13:50:35.368822Z",
          "iopub.execute_input": "2024-08-18T13:50:35.36986Z",
          "iopub.status.idle": "2024-08-18T13:50:35.428568Z",
          "shell.execute_reply.started": "2024-08-18T13:50:35.369816Z",
          "shell.execute_reply": "2024-08-18T13:50:35.427314Z"
        },
        "trusted": true,
        "id": "0lozXCZtgNG0"
      },
      "execution_count": null,
      "outputs": []
    },
    {
      "cell_type": "code",
      "source": [
        "train.head()"
      ],
      "metadata": {
        "execution": {
          "iopub.status.busy": "2024-08-18T13:50:35.431492Z",
          "iopub.execute_input": "2024-08-18T13:50:35.431977Z",
          "iopub.status.idle": "2024-08-18T13:50:35.452486Z",
          "shell.execute_reply.started": "2024-08-18T13:50:35.431937Z",
          "shell.execute_reply": "2024-08-18T13:50:35.451295Z"
        },
        "trusted": true,
        "id": "ZkrTeDW4gNG4"
      },
      "execution_count": null,
      "outputs": []
    },
    {
      "cell_type": "code",
      "source": [
        "train.tail()"
      ],
      "metadata": {
        "execution": {
          "iopub.status.busy": "2024-08-18T13:50:35.453723Z",
          "iopub.execute_input": "2024-08-18T13:50:35.454101Z",
          "iopub.status.idle": "2024-08-18T13:50:35.478466Z",
          "shell.execute_reply.started": "2024-08-18T13:50:35.45407Z",
          "shell.execute_reply": "2024-08-18T13:50:35.477099Z"
        },
        "trusted": true,
        "id": "C8Iw_AjegNG9"
      },
      "execution_count": null,
      "outputs": []
    },
    {
      "cell_type": "code",
      "source": [
        "train.shape"
      ],
      "metadata": {
        "execution": {
          "iopub.status.busy": "2024-08-18T13:50:35.479691Z",
          "iopub.execute_input": "2024-08-18T13:50:35.480011Z",
          "iopub.status.idle": "2024-08-18T13:50:35.490165Z",
          "shell.execute_reply.started": "2024-08-18T13:50:35.479977Z",
          "shell.execute_reply": "2024-08-18T13:50:35.489073Z"
        },
        "trusted": true,
        "id": "0M-hU1mhgNHD"
      },
      "execution_count": null,
      "outputs": []
    },
    {
      "cell_type": "code",
      "source": [
        "train.describe"
      ],
      "metadata": {
        "execution": {
          "iopub.status.busy": "2024-08-18T13:50:35.491511Z",
          "iopub.execute_input": "2024-08-18T13:50:35.49192Z",
          "iopub.status.idle": "2024-08-18T13:50:35.512193Z",
          "shell.execute_reply.started": "2024-08-18T13:50:35.491813Z",
          "shell.execute_reply": "2024-08-18T13:50:35.511091Z"
        },
        "trusted": true,
        "id": "baBeK9eygNHH"
      },
      "execution_count": null,
      "outputs": []
    },
    {
      "cell_type": "code",
      "source": [
        "train.isnull()"
      ],
      "metadata": {
        "execution": {
          "iopub.status.busy": "2024-08-18T13:50:35.513524Z",
          "iopub.execute_input": "2024-08-18T13:50:35.513912Z",
          "iopub.status.idle": "2024-08-18T13:50:35.540476Z",
          "shell.execute_reply.started": "2024-08-18T13:50:35.513878Z",
          "shell.execute_reply": "2024-08-18T13:50:35.539456Z"
        },
        "trusted": true,
        "id": "d2jbYQC4gNHM"
      },
      "execution_count": null,
      "outputs": []
    },
    {
      "cell_type": "code",
      "source": [
        "train.isnull().sum()"
      ],
      "metadata": {
        "execution": {
          "iopub.status.busy": "2024-08-18T13:50:35.542124Z",
          "iopub.execute_input": "2024-08-18T13:50:35.54254Z",
          "iopub.status.idle": "2024-08-18T13:50:35.551123Z",
          "shell.execute_reply.started": "2024-08-18T13:50:35.542502Z",
          "shell.execute_reply": "2024-08-18T13:50:35.550082Z"
        },
        "trusted": true,
        "id": "1WrUNoRTgNHQ"
      },
      "execution_count": null,
      "outputs": []
    },
    {
      "cell_type": "code",
      "source": [
        "test = pd.read_csv(\"/kaggle/input/mobile-price-classification/test.csv\")\n",
        "test"
      ],
      "metadata": {
        "execution": {
          "iopub.status.busy": "2024-08-18T13:50:35.555464Z",
          "iopub.execute_input": "2024-08-18T13:50:35.555872Z",
          "iopub.status.idle": "2024-08-18T13:50:35.589185Z",
          "shell.execute_reply.started": "2024-08-18T13:50:35.555842Z",
          "shell.execute_reply": "2024-08-18T13:50:35.588013Z"
        },
        "trusted": true,
        "id": "phTcQ1pFgNHS"
      },
      "execution_count": null,
      "outputs": []
    },
    {
      "cell_type": "code",
      "source": [
        "train.head()"
      ],
      "metadata": {
        "execution": {
          "iopub.status.busy": "2024-08-18T13:50:35.5908Z",
          "iopub.execute_input": "2024-08-18T13:50:35.591239Z",
          "iopub.status.idle": "2024-08-18T13:50:35.611485Z",
          "shell.execute_reply.started": "2024-08-18T13:50:35.591201Z",
          "shell.execute_reply": "2024-08-18T13:50:35.610439Z"
        },
        "trusted": true,
        "id": "q5492df0gNHU"
      },
      "execution_count": null,
      "outputs": []
    },
    {
      "cell_type": "code",
      "source": [
        "train.tail()"
      ],
      "metadata": {
        "execution": {
          "iopub.status.busy": "2024-08-18T13:50:35.612782Z",
          "iopub.execute_input": "2024-08-18T13:50:35.613221Z",
          "iopub.status.idle": "2024-08-18T13:50:35.640666Z",
          "shell.execute_reply.started": "2024-08-18T13:50:35.613189Z",
          "shell.execute_reply": "2024-08-18T13:50:35.63947Z"
        },
        "trusted": true,
        "id": "jug-idiIgNHW"
      },
      "execution_count": null,
      "outputs": []
    },
    {
      "cell_type": "code",
      "source": [
        "train.shape"
      ],
      "metadata": {
        "execution": {
          "iopub.status.busy": "2024-08-18T13:50:35.642064Z",
          "iopub.execute_input": "2024-08-18T13:50:35.642566Z",
          "iopub.status.idle": "2024-08-18T13:50:35.653483Z",
          "shell.execute_reply.started": "2024-08-18T13:50:35.642536Z",
          "shell.execute_reply": "2024-08-18T13:50:35.652374Z"
        },
        "trusted": true,
        "id": "U3TDArldgNHY"
      },
      "execution_count": null,
      "outputs": []
    },
    {
      "cell_type": "code",
      "source": [
        "train.describe"
      ],
      "metadata": {
        "execution": {
          "iopub.status.busy": "2024-08-18T13:50:35.654805Z",
          "iopub.execute_input": "2024-08-18T13:50:35.655173Z",
          "iopub.status.idle": "2024-08-18T13:50:35.67497Z",
          "shell.execute_reply.started": "2024-08-18T13:50:35.655145Z",
          "shell.execute_reply": "2024-08-18T13:50:35.673885Z"
        },
        "trusted": true,
        "id": "hI82XqXHgNHb"
      },
      "execution_count": null,
      "outputs": []
    },
    {
      "cell_type": "code",
      "source": [
        "train.isnull()"
      ],
      "metadata": {
        "execution": {
          "iopub.status.busy": "2024-08-18T13:50:35.676623Z",
          "iopub.execute_input": "2024-08-18T13:50:35.677007Z",
          "iopub.status.idle": "2024-08-18T13:50:35.703508Z",
          "shell.execute_reply.started": "2024-08-18T13:50:35.676978Z",
          "shell.execute_reply": "2024-08-18T13:50:35.702262Z"
        },
        "trusted": true,
        "id": "FlCqa6t-gNHd"
      },
      "execution_count": null,
      "outputs": []
    },
    {
      "cell_type": "code",
      "source": [
        "train.isnull().sum()"
      ],
      "metadata": {
        "execution": {
          "iopub.status.busy": "2024-08-18T13:50:35.705072Z",
          "iopub.execute_input": "2024-08-18T13:50:35.705427Z",
          "iopub.status.idle": "2024-08-18T13:50:35.715263Z",
          "shell.execute_reply.started": "2024-08-18T13:50:35.705393Z",
          "shell.execute_reply": "2024-08-18T13:50:35.714136Z"
        },
        "trusted": true,
        "id": "r8IQGgXOgNHe"
      },
      "execution_count": null,
      "outputs": []
    },
    {
      "cell_type": "code",
      "source": [
        "df = pd.concat([train,test],axis=0)\n",
        "print(df)"
      ],
      "metadata": {
        "execution": {
          "iopub.status.busy": "2024-08-18T13:50:35.716911Z",
          "iopub.execute_input": "2024-08-18T13:50:35.717401Z",
          "iopub.status.idle": "2024-08-18T13:50:35.739622Z",
          "shell.execute_reply.started": "2024-08-18T13:50:35.717363Z",
          "shell.execute_reply": "2024-08-18T13:50:35.738363Z"
        },
        "trusted": true,
        "id": "mHl9ery_gNHg"
      },
      "execution_count": null,
      "outputs": []
    },
    {
      "cell_type": "code",
      "source": [
        "df.head()"
      ],
      "metadata": {
        "execution": {
          "iopub.status.busy": "2024-08-18T13:50:35.741424Z",
          "iopub.execute_input": "2024-08-18T13:50:35.74187Z",
          "iopub.status.idle": "2024-08-18T13:50:35.766164Z",
          "shell.execute_reply.started": "2024-08-18T13:50:35.741832Z",
          "shell.execute_reply": "2024-08-18T13:50:35.765009Z"
        },
        "trusted": true,
        "id": "paz0pJoHgNHj"
      },
      "execution_count": null,
      "outputs": []
    },
    {
      "cell_type": "code",
      "source": [
        "df.tail()"
      ],
      "metadata": {
        "execution": {
          "iopub.status.busy": "2024-08-18T13:50:35.767553Z",
          "iopub.execute_input": "2024-08-18T13:50:35.767972Z",
          "iopub.status.idle": "2024-08-18T13:50:35.791779Z",
          "shell.execute_reply.started": "2024-08-18T13:50:35.767934Z",
          "shell.execute_reply": "2024-08-18T13:50:35.790643Z"
        },
        "trusted": true,
        "id": "B4IstHOygNHl"
      },
      "execution_count": null,
      "outputs": []
    },
    {
      "cell_type": "code",
      "source": [
        "df.shape"
      ],
      "metadata": {
        "execution": {
          "iopub.status.busy": "2024-08-18T13:50:35.793117Z",
          "iopub.execute_input": "2024-08-18T13:50:35.79355Z",
          "iopub.status.idle": "2024-08-18T13:50:35.800507Z",
          "shell.execute_reply.started": "2024-08-18T13:50:35.793511Z",
          "shell.execute_reply": "2024-08-18T13:50:35.79942Z"
        },
        "trusted": true,
        "id": "qzPQqoX0gNHm"
      },
      "execution_count": null,
      "outputs": []
    },
    {
      "cell_type": "code",
      "source": [
        "df.describe"
      ],
      "metadata": {
        "execution": {
          "iopub.status.busy": "2024-08-18T13:50:35.80197Z",
          "iopub.execute_input": "2024-08-18T13:50:35.802412Z",
          "iopub.status.idle": "2024-08-18T13:50:35.824319Z",
          "shell.execute_reply.started": "2024-08-18T13:50:35.802376Z",
          "shell.execute_reply": "2024-08-18T13:50:35.823007Z"
        },
        "trusted": true,
        "id": "la2O9a8ogNHp"
      },
      "execution_count": null,
      "outputs": []
    },
    {
      "cell_type": "code",
      "source": [
        "df.isnull()"
      ],
      "metadata": {
        "execution": {
          "iopub.status.busy": "2024-08-18T13:50:35.825662Z",
          "iopub.execute_input": "2024-08-18T13:50:35.825991Z",
          "iopub.status.idle": "2024-08-18T13:50:35.854455Z",
          "shell.execute_reply.started": "2024-08-18T13:50:35.825963Z",
          "shell.execute_reply": "2024-08-18T13:50:35.853416Z"
        },
        "trusted": true,
        "id": "gDrj256ngNHr"
      },
      "execution_count": null,
      "outputs": []
    },
    {
      "cell_type": "code",
      "source": [
        "df.isnull().sum()"
      ],
      "metadata": {
        "execution": {
          "iopub.status.busy": "2024-08-18T13:50:35.855825Z",
          "iopub.execute_input": "2024-08-18T13:50:35.856179Z",
          "iopub.status.idle": "2024-08-18T13:50:35.865129Z",
          "shell.execute_reply.started": "2024-08-18T13:50:35.85615Z",
          "shell.execute_reply": "2024-08-18T13:50:35.864069Z"
        },
        "trusted": true,
        "id": "S7_tvZL_gNHt"
      },
      "execution_count": null,
      "outputs": []
    },
    {
      "cell_type": "code",
      "source": [
        "df['id'].value_counts()"
      ],
      "metadata": {
        "execution": {
          "iopub.status.busy": "2024-08-18T13:50:35.866482Z",
          "iopub.execute_input": "2024-08-18T13:50:35.866829Z",
          "iopub.status.idle": "2024-08-18T13:50:35.883995Z",
          "shell.execute_reply.started": "2024-08-18T13:50:35.866802Z",
          "shell.execute_reply": "2024-08-18T13:50:35.882948Z"
        },
        "trusted": true,
        "id": "bWm280vhgNHv"
      },
      "execution_count": null,
      "outputs": []
    },
    {
      "cell_type": "code",
      "source": [
        "df['price_range'].value_counts()"
      ],
      "metadata": {
        "execution": {
          "iopub.status.busy": "2024-08-18T13:50:35.88548Z",
          "iopub.execute_input": "2024-08-18T13:50:35.885904Z",
          "iopub.status.idle": "2024-08-18T13:50:35.896427Z",
          "shell.execute_reply.started": "2024-08-18T13:50:35.885874Z",
          "shell.execute_reply": "2024-08-18T13:50:35.895281Z"
        },
        "trusted": true,
        "id": "C3ysObDVgNHy"
      },
      "execution_count": null,
      "outputs": []
    },
    {
      "cell_type": "code",
      "source": [
        "df['wifi'].value_counts()"
      ],
      "metadata": {
        "execution": {
          "iopub.status.busy": "2024-08-18T13:50:35.897628Z",
          "iopub.execute_input": "2024-08-18T13:50:35.897938Z",
          "iopub.status.idle": "2024-08-18T13:50:35.912444Z",
          "shell.execute_reply.started": "2024-08-18T13:50:35.897914Z",
          "shell.execute_reply": "2024-08-18T13:50:35.911311Z"
        },
        "trusted": true,
        "id": "7ls7qnm_gNH1"
      },
      "execution_count": null,
      "outputs": []
    },
    {
      "cell_type": "code",
      "source": [
        "df['touch_screen'].value_counts()"
      ],
      "metadata": {
        "execution": {
          "iopub.status.busy": "2024-08-18T13:50:35.9142Z",
          "iopub.execute_input": "2024-08-18T13:50:35.914732Z",
          "iopub.status.idle": "2024-08-18T13:50:35.926119Z",
          "shell.execute_reply.started": "2024-08-18T13:50:35.914693Z",
          "shell.execute_reply": "2024-08-18T13:50:35.924919Z"
        },
        "trusted": true,
        "id": "RflF8vvSgNH3"
      },
      "execution_count": null,
      "outputs": []
    },
    {
      "cell_type": "code",
      "source": [
        "df['three_g'].value_counts()"
      ],
      "metadata": {
        "execution": {
          "iopub.status.busy": "2024-08-18T13:50:35.931523Z",
          "iopub.execute_input": "2024-08-18T13:50:35.931895Z",
          "iopub.status.idle": "2024-08-18T13:50:35.940426Z",
          "shell.execute_reply.started": "2024-08-18T13:50:35.931867Z",
          "shell.execute_reply": "2024-08-18T13:50:35.939105Z"
        },
        "trusted": true,
        "id": "DbvzRqeBgNH5"
      },
      "execution_count": null,
      "outputs": []
    },
    {
      "cell_type": "code",
      "source": [
        "df['touch_screen'].value_counts()"
      ],
      "metadata": {
        "execution": {
          "iopub.status.busy": "2024-08-18T13:50:35.941904Z",
          "iopub.execute_input": "2024-08-18T13:50:35.942553Z",
          "iopub.status.idle": "2024-08-18T13:50:35.953938Z",
          "shell.execute_reply.started": "2024-08-18T13:50:35.94252Z",
          "shell.execute_reply": "2024-08-18T13:50:35.952868Z"
        },
        "trusted": true,
        "id": "ehkcFdbsgNH7"
      },
      "execution_count": null,
      "outputs": []
    },
    {
      "cell_type": "code",
      "source": [
        "df['talk_time'].value_counts()"
      ],
      "metadata": {
        "execution": {
          "iopub.status.busy": "2024-08-18T13:50:35.955489Z",
          "iopub.execute_input": "2024-08-18T13:50:35.95643Z",
          "iopub.status.idle": "2024-08-18T13:50:35.967583Z",
          "shell.execute_reply.started": "2024-08-18T13:50:35.956397Z",
          "shell.execute_reply": "2024-08-18T13:50:35.96641Z"
        },
        "trusted": true,
        "id": "0aRFcVCVgNH-"
      },
      "execution_count": null,
      "outputs": []
    },
    {
      "cell_type": "code",
      "source": [
        "x = df[['wifi']]\n",
        "y = df[['three_g']]"
      ],
      "metadata": {
        "execution": {
          "iopub.status.busy": "2024-08-18T13:54:04.520184Z",
          "iopub.execute_input": "2024-08-18T13:54:04.520587Z",
          "iopub.status.idle": "2024-08-18T13:54:04.527519Z",
          "shell.execute_reply.started": "2024-08-18T13:54:04.520559Z",
          "shell.execute_reply": "2024-08-18T13:54:04.526161Z"
        },
        "trusted": true,
        "id": "5v4yQ3J8gNIA"
      },
      "execution_count": null,
      "outputs": []
    },
    {
      "cell_type": "code",
      "source": [
        "#splitting the dataset\n",
        "\n",
        "from sklearn.model_selection import train_test_split\n",
        "x_train,x_test,y_train,y_test=train_test_split(x,y,test_size=0.2)"
      ],
      "metadata": {
        "execution": {
          "iopub.status.busy": "2024-08-18T13:54:09.305163Z",
          "iopub.execute_input": "2024-08-18T13:54:09.306253Z",
          "iopub.status.idle": "2024-08-18T13:54:09.314071Z",
          "shell.execute_reply.started": "2024-08-18T13:54:09.306211Z",
          "shell.execute_reply": "2024-08-18T13:54:09.3128Z"
        },
        "trusted": true,
        "id": "4jIdVeJ6gNIC"
      },
      "execution_count": null,
      "outputs": []
    },
    {
      "cell_type": "code",
      "source": [
        "x_test.head()"
      ],
      "metadata": {
        "execution": {
          "iopub.status.busy": "2024-08-18T13:54:11.919876Z",
          "iopub.execute_input": "2024-08-18T13:54:11.920658Z",
          "iopub.status.idle": "2024-08-18T13:54:11.930982Z",
          "shell.execute_reply.started": "2024-08-18T13:54:11.920621Z",
          "shell.execute_reply": "2024-08-18T13:54:11.929675Z"
        },
        "trusted": true,
        "id": "nINNf7csgNIE"
      },
      "execution_count": null,
      "outputs": []
    },
    {
      "cell_type": "code",
      "source": [
        "x_train.head()"
      ],
      "metadata": {
        "execution": {
          "iopub.status.busy": "2024-08-18T13:54:18.250017Z",
          "iopub.execute_input": "2024-08-18T13:54:18.251258Z",
          "iopub.status.idle": "2024-08-18T13:54:18.26072Z",
          "shell.execute_reply.started": "2024-08-18T13:54:18.251213Z",
          "shell.execute_reply": "2024-08-18T13:54:18.25949Z"
        },
        "trusted": true,
        "id": "flDzbaE8gNIG"
      },
      "execution_count": null,
      "outputs": []
    },
    {
      "cell_type": "code",
      "source": [
        "y_train.head()"
      ],
      "metadata": {
        "execution": {
          "iopub.status.busy": "2024-08-18T13:54:23.950103Z",
          "iopub.execute_input": "2024-08-18T13:54:23.950652Z",
          "iopub.status.idle": "2024-08-18T13:54:23.960319Z",
          "shell.execute_reply.started": "2024-08-18T13:54:23.950613Z",
          "shell.execute_reply": "2024-08-18T13:54:23.959129Z"
        },
        "trusted": true,
        "id": "z8d2yX9EgNII"
      },
      "execution_count": null,
      "outputs": []
    },
    {
      "cell_type": "code",
      "source": [
        "y_test.head()"
      ],
      "metadata": {
        "execution": {
          "iopub.status.busy": "2024-08-18T13:54:27.375067Z",
          "iopub.execute_input": "2024-08-18T13:54:27.375454Z",
          "iopub.status.idle": "2024-08-18T13:54:27.384613Z",
          "shell.execute_reply.started": "2024-08-18T13:54:27.375425Z",
          "shell.execute_reply": "2024-08-18T13:54:27.383399Z"
        },
        "trusted": true,
        "id": "GxNzCgetgNIJ"
      },
      "execution_count": null,
      "outputs": []
    },
    {
      "cell_type": "code",
      "source": [
        "array=np.array(df)\n",
        "data =array.reshape(-1,1);\n",
        "print(data)"
      ],
      "metadata": {
        "execution": {
          "iopub.status.busy": "2024-08-18T13:50:36.342897Z",
          "iopub.status.idle": "2024-08-18T13:50:36.343283Z",
          "shell.execute_reply.started": "2024-08-18T13:50:36.343105Z",
          "shell.execute_reply": "2024-08-18T13:50:36.343121Z"
        },
        "trusted": true,
        "id": "k-cFEqnygNIM"
      },
      "execution_count": null,
      "outputs": []
    },
    {
      "cell_type": "code",
      "source": [
        "from sklearn.linear_model import LinearRegression\n",
        "model = LinearRegression()\n"
      ],
      "metadata": {
        "execution": {
          "iopub.status.busy": "2024-08-18T13:54:32.400087Z",
          "iopub.execute_input": "2024-08-18T13:54:32.400505Z",
          "iopub.status.idle": "2024-08-18T13:54:32.405558Z",
          "shell.execute_reply.started": "2024-08-18T13:54:32.400474Z",
          "shell.execute_reply": "2024-08-18T13:54:32.404312Z"
        },
        "trusted": true,
        "id": "3tlpS3-qgNJw"
      },
      "execution_count": null,
      "outputs": []
    },
    {
      "cell_type": "code",
      "source": [
        "model.fit(x_train,y_train)"
      ],
      "metadata": {
        "execution": {
          "iopub.status.busy": "2024-08-18T13:54:37.309737Z",
          "iopub.execute_input": "2024-08-18T13:54:37.310143Z",
          "iopub.status.idle": "2024-08-18T13:54:37.333712Z",
          "shell.execute_reply.started": "2024-08-18T13:54:37.310112Z",
          "shell.execute_reply": "2024-08-18T13:54:37.332486Z"
        },
        "trusted": true,
        "id": "n72vDuZAgNJy"
      },
      "execution_count": null,
      "outputs": []
    },
    {
      "cell_type": "code",
      "source": [
        "y_pred= model.predict(x_test)\n",
        "y_pred"
      ],
      "metadata": {
        "execution": {
          "iopub.status.busy": "2024-08-18T13:55:44.68904Z",
          "iopub.execute_input": "2024-08-18T13:55:44.689446Z",
          "iopub.status.idle": "2024-08-18T13:55:44.706341Z",
          "shell.execute_reply.started": "2024-08-18T13:55:44.689414Z",
          "shell.execute_reply": "2024-08-18T13:55:44.705183Z"
        },
        "trusted": true,
        "id": "zECtdHLFgNJ1"
      },
      "execution_count": null,
      "outputs": []
    },
    {
      "cell_type": "code",
      "source": [
        "from sklearn.metrics import mean_squared_error\n",
        "mse = mean_squared_error(x_test,y_pred)\n",
        "mse"
      ],
      "metadata": {
        "execution": {
          "iopub.status.busy": "2024-08-18T13:57:59.935267Z",
          "iopub.execute_input": "2024-08-18T13:57:59.936133Z",
          "iopub.status.idle": "2024-08-18T13:57:59.945909Z",
          "shell.execute_reply.started": "2024-08-18T13:57:59.93609Z",
          "shell.execute_reply": "2024-08-18T13:57:59.944536Z"
        },
        "trusted": true,
        "id": "LKnoKQAOgNJ3"
      },
      "execution_count": null,
      "outputs": []
    },
    {
      "cell_type": "code",
      "source": [
        "from sklearn.metrics import mean_absolute_error\n",
        "mae = mean_absolute_error(x_test,y_pred)\n",
        "mae"
      ],
      "metadata": {
        "execution": {
          "iopub.status.busy": "2024-08-18T13:59:15.830191Z",
          "iopub.execute_input": "2024-08-18T13:59:15.830725Z",
          "iopub.status.idle": "2024-08-18T13:59:15.841324Z",
          "shell.execute_reply.started": "2024-08-18T13:59:15.830684Z",
          "shell.execute_reply": "2024-08-18T13:59:15.840081Z"
        },
        "trusted": true,
        "id": "RJ45d0LigNJ5"
      },
      "execution_count": null,
      "outputs": []
    },
    {
      "cell_type": "code",
      "source": [],
      "metadata": {
        "id": "vVfTBOP2gNJ8"
      },
      "execution_count": null,
      "outputs": []
    }
  ]
}